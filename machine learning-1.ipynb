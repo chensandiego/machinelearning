{
 "cells": [
  {
   "cell_type": "code",
   "execution_count": 1,
   "metadata": {
    "collapsed": false
   },
   "outputs": [
    {
     "name": "stdout",
     "output_type": "stream",
     "text": [
      "[[  1.00000000e+00   2.27200000e+03]\n",
      " [  2.00000000e+00              nan]\n",
      " [  3.00000000e+00   1.38600000e+03]\n",
      " [  4.00000000e+00   1.36500000e+03]\n",
      " [  5.00000000e+00   1.48800000e+03]\n",
      " [  6.00000000e+00   1.33700000e+03]\n",
      " [  7.00000000e+00   1.88300000e+03]\n",
      " [  8.00000000e+00   2.28300000e+03]\n",
      " [  9.00000000e+00   1.33500000e+03]\n",
      " [  1.00000000e+01   1.02500000e+03]]\n"
     ]
    }
   ],
   "source": [
    "import scipy as sp\n",
    "data = sp.genfromtxt(\"web_traffic.tsv\",delimiter=\"\\t\")\n",
    "print(data[:10])"
   ]
  },
  {
   "cell_type": "code",
   "execution_count": null,
   "metadata": {
    "collapsed": true
   },
   "outputs": [],
   "source": [
    "x=data[:,0]\n",
    "y=data[:,1]\n",
    "\n",
    "x = x[~sp.isnan(y)]\n",
    "y = y[~sp.isnan(y)]\n",
    "\n",
    "import matplotlib.pyplot as plt\n",
    "plt.scatter(x,y,s=10)\n",
    "plt.title(\"web traffic over the last month\")\n",
    "plt.xlabel(\"time\")\n",
    "plt.ylabel(\"hits/hour\")\n",
    "plt.xticks([w*7*24 for w in range(10)],['week %i' %w for w in range(10)])\n",
    "\n",
    "plt.autoscale(tight=True)\n",
    "plt.grid(True,lin)"
   ]
  }
 ],
 "metadata": {
  "kernelspec": {
   "display_name": "Python 3",
   "language": "python",
   "name": "python3"
  },
  "language_info": {
   "codemirror_mode": {
    "name": "ipython",
    "version": 3
   },
   "file_extension": ".py",
   "mimetype": "text/x-python",
   "name": "python",
   "nbconvert_exporter": "python",
   "pygments_lexer": "ipython3",
   "version": "3.5.1"
  }
 },
 "nbformat": 4,
 "nbformat_minor": 0
}
